{
 "cells": [
  {
   "cell_type": "code",
   "execution_count": 2,
   "id": "08d9f64a-98e0-494f-80a0-d07d077ec0d3",
   "metadata": {},
   "outputs": [],
   "source": [
    "import torchfile"
   ]
  },
  {
   "cell_type": "code",
   "execution_count": 3,
   "id": "0ea9100f-d12e-4a31-b58e-68c740214349",
   "metadata": {},
   "outputs": [
    {
     "ename": "TypeError",
     "evalue": "unhashable type: 'list'",
     "output_type": "error",
     "traceback": [
      "\u001b[1;31m---------------------------------------------------------------------------\u001b[0m",
      "\u001b[1;31mTypeError\u001b[0m                                 Traceback (most recent call last)",
      "Cell \u001b[1;32mIn[3], line 1\u001b[0m\n\u001b[1;32m----> 1\u001b[0m vgg1 \u001b[38;5;241m=\u001b[39m torchfile\u001b[38;5;241m.\u001b[39mload(\u001b[38;5;124mr\u001b[39m\u001b[38;5;124m'\u001b[39m\u001b[38;5;124mC:\u001b[39m\u001b[38;5;124m\\\u001b[39m\u001b[38;5;124mUsers\u001b[39m\u001b[38;5;124m\\\u001b[39m\u001b[38;5;124mJaya Teja\u001b[39m\u001b[38;5;124m\\\u001b[39m\u001b[38;5;124mUniversal-Style-Transfer\u001b[39m\u001b[38;5;124m\\\u001b[39m\u001b[38;5;124mencoders and decoders\u001b[39m\u001b[38;5;124m\\\u001b[39m\u001b[38;5;124mmodels\u001b[39m\u001b[38;5;124m\\\u001b[39m\u001b[38;5;124mvgg_normalised_conv1_1.t7\u001b[39m\u001b[38;5;124m'\u001b[39m)\n",
      "File \u001b[1;32m~\\anaconda3\\Lib\\site-packages\\torchfile.py:424\u001b[0m, in \u001b[0;36mload\u001b[1;34m(filename, **kwargs)\u001b[0m\n\u001b[0;32m    422\u001b[0m \u001b[38;5;28;01mwith\u001b[39;00m \u001b[38;5;28mopen\u001b[39m(filename, \u001b[38;5;124m'\u001b[39m\u001b[38;5;124mrb\u001b[39m\u001b[38;5;124m'\u001b[39m) \u001b[38;5;28;01mas\u001b[39;00m f:\n\u001b[0;32m    423\u001b[0m     reader \u001b[38;5;241m=\u001b[39m T7Reader(f, \u001b[38;5;241m*\u001b[39m\u001b[38;5;241m*\u001b[39mkwargs)\n\u001b[1;32m--> 424\u001b[0m     \u001b[38;5;28;01mreturn\u001b[39;00m reader\u001b[38;5;241m.\u001b[39mread_obj()\n",
      "File \u001b[1;32m~\\anaconda3\\Lib\\site-packages\\torchfile.py:370\u001b[0m, in \u001b[0;36mT7Reader.read_obj\u001b[1;34m(self)\u001b[0m\n\u001b[0;32m    367\u001b[0m         \u001b[38;5;28mself\u001b[39m\u001b[38;5;241m.\u001b[39mobjects[index] \u001b[38;5;241m=\u001b[39m obj\n\u001b[0;32m    368\u001b[0m         \u001b[38;5;66;03m# After self.objects is populated, it's safe to read in\u001b[39;00m\n\u001b[0;32m    369\u001b[0m         \u001b[38;5;66;03m# case self-referential\u001b[39;00m\n\u001b[1;32m--> 370\u001b[0m         obj\u001b[38;5;241m.\u001b[39m_obj \u001b[38;5;241m=\u001b[39m \u001b[38;5;28mself\u001b[39m\u001b[38;5;241m.\u001b[39mread_obj()\n\u001b[0;32m    371\u001b[0m     \u001b[38;5;28;01mreturn\u001b[39;00m obj\n\u001b[0;32m    373\u001b[0m \u001b[38;5;28;01melse\u001b[39;00m:  \u001b[38;5;66;03m# it is a table: returns a custom dict or a list\u001b[39;00m\n",
      "File \u001b[1;32m~\\anaconda3\\Lib\\site-packages\\torchfile.py:385\u001b[0m, in \u001b[0;36mT7Reader.read_obj\u001b[1;34m(self)\u001b[0m\n\u001b[0;32m    382\u001b[0m \u001b[38;5;28mself\u001b[39m\u001b[38;5;241m.\u001b[39mobjects[index] \u001b[38;5;241m=\u001b[39m obj\n\u001b[0;32m    384\u001b[0m \u001b[38;5;28;01mfor\u001b[39;00m _ \u001b[38;5;129;01min\u001b[39;00m \u001b[38;5;28mrange\u001b[39m(size):\n\u001b[1;32m--> 385\u001b[0m     k \u001b[38;5;241m=\u001b[39m \u001b[38;5;28mself\u001b[39m\u001b[38;5;241m.\u001b[39mread_obj()\n\u001b[0;32m    386\u001b[0m     v \u001b[38;5;241m=\u001b[39m \u001b[38;5;28mself\u001b[39m\u001b[38;5;241m.\u001b[39mread_obj()\n\u001b[0;32m    387\u001b[0m     obj[k] \u001b[38;5;241m=\u001b[39m v\n",
      "File \u001b[1;32m~\\anaconda3\\Lib\\site-packages\\torchfile.py:386\u001b[0m, in \u001b[0;36mT7Reader.read_obj\u001b[1;34m(self)\u001b[0m\n\u001b[0;32m    384\u001b[0m \u001b[38;5;28;01mfor\u001b[39;00m _ \u001b[38;5;129;01min\u001b[39;00m \u001b[38;5;28mrange\u001b[39m(size):\n\u001b[0;32m    385\u001b[0m     k \u001b[38;5;241m=\u001b[39m \u001b[38;5;28mself\u001b[39m\u001b[38;5;241m.\u001b[39mread_obj()\n\u001b[1;32m--> 386\u001b[0m     v \u001b[38;5;241m=\u001b[39m \u001b[38;5;28mself\u001b[39m\u001b[38;5;241m.\u001b[39mread_obj()\n\u001b[0;32m    387\u001b[0m     obj[k] \u001b[38;5;241m=\u001b[39m v\n\u001b[0;32m    389\u001b[0m     \u001b[38;5;28;01mif\u001b[39;00m \u001b[38;5;28mself\u001b[39m\u001b[38;5;241m.\u001b[39muse_list_heuristic:\n",
      "File \u001b[1;32m~\\anaconda3\\Lib\\site-packages\\torchfile.py:370\u001b[0m, in \u001b[0;36mT7Reader.read_obj\u001b[1;34m(self)\u001b[0m\n\u001b[0;32m    367\u001b[0m         \u001b[38;5;28mself\u001b[39m\u001b[38;5;241m.\u001b[39mobjects[index] \u001b[38;5;241m=\u001b[39m obj\n\u001b[0;32m    368\u001b[0m         \u001b[38;5;66;03m# After self.objects is populated, it's safe to read in\u001b[39;00m\n\u001b[0;32m    369\u001b[0m         \u001b[38;5;66;03m# case self-referential\u001b[39;00m\n\u001b[1;32m--> 370\u001b[0m         obj\u001b[38;5;241m.\u001b[39m_obj \u001b[38;5;241m=\u001b[39m \u001b[38;5;28mself\u001b[39m\u001b[38;5;241m.\u001b[39mread_obj()\n\u001b[0;32m    371\u001b[0m     \u001b[38;5;28;01mreturn\u001b[39;00m obj\n\u001b[0;32m    373\u001b[0m \u001b[38;5;28;01melse\u001b[39;00m:  \u001b[38;5;66;03m# it is a table: returns a custom dict or a list\u001b[39;00m\n",
      "File \u001b[1;32m~\\anaconda3\\Lib\\site-packages\\torchfile.py:387\u001b[0m, in \u001b[0;36mT7Reader.read_obj\u001b[1;34m(self)\u001b[0m\n\u001b[0;32m    385\u001b[0m k \u001b[38;5;241m=\u001b[39m \u001b[38;5;28mself\u001b[39m\u001b[38;5;241m.\u001b[39mread_obj()\n\u001b[0;32m    386\u001b[0m v \u001b[38;5;241m=\u001b[39m \u001b[38;5;28mself\u001b[39m\u001b[38;5;241m.\u001b[39mread_obj()\n\u001b[1;32m--> 387\u001b[0m obj[k] \u001b[38;5;241m=\u001b[39m v\n\u001b[0;32m    389\u001b[0m \u001b[38;5;28;01mif\u001b[39;00m \u001b[38;5;28mself\u001b[39m\u001b[38;5;241m.\u001b[39muse_list_heuristic:\n\u001b[0;32m    390\u001b[0m     \u001b[38;5;28;01mif\u001b[39;00m \u001b[38;5;129;01mnot\u001b[39;00m \u001b[38;5;28misinstance\u001b[39m(k, \u001b[38;5;28mint\u001b[39m) \u001b[38;5;129;01mor\u001b[39;00m k \u001b[38;5;241m<\u001b[39m\u001b[38;5;241m=\u001b[39m \u001b[38;5;241m0\u001b[39m:\n",
      "\u001b[1;31mTypeError\u001b[0m: unhashable type: 'list'"
     ]
    }
   ],
   "source": [
    "vgg1 = torchfile.load(r'C:\\Users\\Jaya Teja\\Universal-Style-Transfer\\encoders and decoders\\models\\vgg_normalised_conv1_1.t7')\n",
    "\n"
   ]
  },
  {
   "cell_type": "code",
   "execution_count": null,
   "id": "ad7cca94-14bc-4a7a-b801-1056644897ab",
   "metadata": {},
   "outputs": [],
   "source": []
  }
 ],
 "metadata": {
  "kernelspec": {
   "display_name": "Python 3 (ipykernel)",
   "language": "python",
   "name": "python3"
  },
  "language_info": {
   "codemirror_mode": {
    "name": "ipython",
    "version": 3
   },
   "file_extension": ".py",
   "mimetype": "text/x-python",
   "name": "python",
   "nbconvert_exporter": "python",
   "pygments_lexer": "ipython3",
   "version": "3.11.7"
  }
 },
 "nbformat": 4,
 "nbformat_minor": 5
}
